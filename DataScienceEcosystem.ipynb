{
 "cells": [
  {
   "cell_type": "markdown",
   "id": "3f6554e7-7d32-4853-99e0-0cbcbcc56d52",
   "metadata": {},
   "source": [
    "# Data Science Tools and Ecosystem\n",
    "\n"
   ]
  },
  {
   "cell_type": "markdown",
   "id": "7d3a1edf-480b-4f39-8154-bef690cd3aec",
   "metadata": {},
   "source": [
    "In this notebook, Data Science Tools and Ecosystem are summarized"
   ]
  },
  {
   "cell_type": "markdown",
   "id": "2138f933-b386-4458-8745-938bafecbcc7",
   "metadata": {},
   "source": [
    "Some of the popular languages that Data Scientists use are:\n",
    "1. python\n",
    "2. R\n",
    "3. scala"
   ]
  },
  {
   "cell_type": "markdown",
   "id": "7c61a935-69a2-427c-abad-8deba6934f22",
   "metadata": {},
   "source": [
    "|Data Science Tools |\n",
    "|---|\n",
    "|jupyter |\n",
    "| ibm watson studio|\n",
    "|r studio|"
   ]
  },
  {
   "cell_type": "markdown",
   "id": "199343d4-f58f-4a5f-bb2e-418fe11f9989",
   "metadata": {},
   "source": [
    "### Below are a few examples of evaluating arithmetic expressions in Python"
   ]
  },
  {
   "cell_type": "code",
   "execution_count": 23,
   "id": "862302aa-f7b6-4164-82de-db4c714d2783",
   "metadata": {},
   "outputs": [
    {
     "name": "stdout",
     "output_type": "stream",
     "text": [
      "17\n"
     ]
    }
   ],
   "source": [
    "#This a simple arithmetic expression to mutiply then add integers\n",
    "print((3*4)+5)"
   ]
  },
  {
   "cell_type": "code",
   "execution_count": 25,
   "id": "266b04f5-3214-436f-a57d-f50900038c3a",
   "metadata": {},
   "outputs": [
    {
     "name": "stdout",
     "output_type": "stream",
     "text": [
      "200 minutes equalevent to hour is  3.3333333333333335 hours\n"
     ]
    }
   ],
   "source": [
    "#This will convert 200 minutes to hours by diving by 60\n",
    "print ( \"200 minutes equalevent to hour is \" , 200/60 ,\"hours\") "
   ]
  },
  {
   "cell_type": "markdown",
   "id": "cb168285-3cc8-4057-bd9d-b60a69ada772",
   "metadata": {},
   "source": [
    "## Objectives: \n",
    "* python\n",
    "* R\n",
    "* Scala"
   ]
  },
  {
   "cell_type": "markdown",
   "id": "3806869b-63c6-42f1-b879-3269e2ac31c4",
   "metadata": {},
   "source": [
    "## Author\n",
    "ROHIT CHAHAL"
   ]
  },
  {
   "cell_type": "code",
   "execution_count": null,
   "id": "6a1f0f4c-6bdf-4dc2-8f2c-a6303b7d7171",
   "metadata": {},
   "outputs": [],
   "source": []
  }
 ],
 "metadata": {
  "kernelspec": {
   "display_name": "Python [conda env:base] *",
   "language": "python",
   "name": "conda-base-py"
  },
  "language_info": {
   "codemirror_mode": {
    "name": "ipython",
    "version": 3
   },
   "file_extension": ".py",
   "mimetype": "text/x-python",
   "name": "python",
   "nbconvert_exporter": "python",
   "pygments_lexer": "ipython3",
   "version": "3.12.7"
  }
 },
 "nbformat": 4,
 "nbformat_minor": 5
}
